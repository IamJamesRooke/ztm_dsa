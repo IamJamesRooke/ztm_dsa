{
 "cells": [
  {
   "cell_type": "markdown",
   "metadata": {},
   "source": [
    "# Arrays"
   ]
  },
  {
   "cell_type": "code",
   "execution_count": 103,
   "metadata": {},
   "outputs": [
    {
     "name": "stdout",
     "output_type": "stream",
     "text": [
      "['a', 'b', 'c', 'd']\n"
     ]
    }
   ],
   "source": [
    "strings = ['a', 'b', 'c', 'd']\n",
    "print(strings)"
   ]
  },
  {
   "cell_type": "markdown",
   "metadata": {},
   "source": [
    "`O(1)`"
   ]
  },
  {
   "cell_type": "code",
   "execution_count": 104,
   "metadata": {},
   "outputs": [],
   "source": [
    "strings.append('e')"
   ]
  },
  {
   "cell_type": "code",
   "execution_count": 105,
   "metadata": {},
   "outputs": [],
   "source": [
    "strings[2] # O(1) time\n",
    "\n",
    "strings.extend(['f', 'g', 'h'])"
   ]
  },
  {
   "cell_type": "code",
   "execution_count": 106,
   "metadata": {},
   "outputs": [
    {
     "data": {
      "text/plain": [
       "['a', 'b', 'c', 'd', 'e', 'f', 'g', 'h']"
      ]
     },
     "execution_count": 106,
     "metadata": {},
     "output_type": "execute_result"
    }
   ],
   "source": [
    "strings"
   ]
  },
  {
   "cell_type": "markdown",
   "metadata": {},
   "source": [
    "`O(1)`"
   ]
  },
  {
   "cell_type": "code",
   "execution_count": 107,
   "metadata": {},
   "outputs": [
    {
     "data": {
      "text/plain": [
       "['a', 'b', 'c', 'd', 'e', 'f', 'h']"
      ]
     },
     "execution_count": 107,
     "metadata": {},
     "output_type": "execute_result"
    }
   ],
   "source": [
    "strings.pop(-2)  # Removes the last two items\n",
    "strings"
   ]
  },
  {
   "cell_type": "markdown",
   "metadata": {},
   "source": [
    "`O(n)`"
   ]
  },
  {
   "cell_type": "code",
   "execution_count": 108,
   "metadata": {},
   "outputs": [
    {
     "name": "stdout",
     "output_type": "stream",
     "text": [
      "['a', 'b', 'c', 'd', '1', 'e', 'f', 'h']\n"
     ]
    }
   ],
   "source": [
    "# O(n) - The insert operation has to shift elements to make space for the new element.\n",
    "strings.insert(4, '1')  # Adds 1 to the beginning of the list\n",
    "print(strings)  # Output: [1, 2, 3, 4]"
   ]
  },
  {
   "cell_type": "markdown",
   "metadata": {},
   "source": [
    "Implementing an Array"
   ]
  },
  {
   "cell_type": "code",
   "execution_count": 142,
   "metadata": {},
   "outputs": [],
   "source": [
    "class MyArray:\n",
    "    def __init__(self):\n",
    "        self.length = 0\n",
    "        self.data = []\n",
    "\n",
    "    def __repr__(self):\n",
    "        return str(self.data)\n",
    "    \n",
    "    def get(self, index):\n",
    "        return self.data[index]\n",
    "    \n",
    "    def push(self, item):\n",
    "        self.data.append(item)\n",
    "        self.length += 1\n",
    "        return self.length\n",
    "    \n",
    "    def pop(self):\n",
    "        if self.length == 0:\n",
    "            return None\n",
    "        last_item = self.data[-1]\n",
    "        del self.data[-1]\n",
    "        self.length -= 1\n",
    "        return last_item\n",
    "    \n",
    "    def delete(self, index):\n",
    "        if index < 0 or index >= self.length:\n",
    "            return None\n",
    "        item_to_delete = self.data[index]\n",
    "        self.data = self.data[:index] + self.data[index + 1:]\n",
    "        self.length -= 1\n",
    "        return item_to_delete\n",
    "    \n",
    "    def shift_items(self, index):\n",
    "        for i in range(self.length -1):\n",
    "            self.data[index] = self.data[index + 1] # shift_items (2) => [0, 1, 2, 3] => [1, 2, 3, 3]\n",
    "            del self.data[-1]\n",
    "            self.length =- 1\n",
    "            \n",
    "    \n",
    "newArray = MyArray()"
   ]
  },
  {
   "cell_type": "code",
   "execution_count": 143,
   "metadata": {},
   "outputs": [],
   "source": [
    "for i in range(10):\n",
    "    newArray.push('a')"
   ]
  },
  {
   "cell_type": "markdown",
   "metadata": {},
   "source": [
    "#### **Exercise:** Reverse A String"
   ]
  },
  {
   "cell_type": "markdown",
   "metadata": {},
   "source": [
    "My First Solution"
   ]
  },
  {
   "cell_type": "code",
   "execution_count": null,
   "metadata": {},
   "outputs": [
    {
     "data": {
      "text/plain": [
       "'!uoY olleH'"
      ]
     },
     "execution_count": 175,
     "metadata": {},
     "output_type": "execute_result"
    }
   ],
   "source": [
    "# Create a function that reverses a string.\n",
    "# \"Hello James Rooke\" => \"ekooR semaJ olleH\"\n",
    "\n",
    "def reverse(str):\n",
    "\n",
    "    reversed_string = \"\"\n",
    "\n",
    "    for i in range(len(str) - 1, -1, -1):\n",
    "        reversed_string += str[i]\n",
    "\n",
    "    return reversed_string\n",
    "\n",
    "reverse(\"Hello You!\")\n",
    "\n",
    "# The time complexity of the reverse function is O(n), where n is the length of the input string.\n",
    "# This is because the function iterates through the string once, appending each character to the reversed_string.\n",
    "# The space complexity is also O(n) because a new string is created to store the reversed version."
   ]
  },
  {
   "cell_type": "markdown",
   "metadata": {},
   "source": [
    "With `pop`"
   ]
  },
  {
   "cell_type": "code",
   "execution_count": 189,
   "metadata": {},
   "outputs": [
    {
     "data": {
      "text/plain": [
       "'!uoY olleH'"
      ]
     },
     "execution_count": 189,
     "metadata": {},
     "output_type": "execute_result"
    }
   ],
   "source": [
    "def reverse(str):\n",
    "\n",
    "    string_list = list(str)\n",
    "    reversed_list = []\n",
    "\n",
    "    for i in range(len(str)):\n",
    "        reversed_list.append(string_list.pop())\n",
    "\n",
    "    return \"\".join(reversed_list)\n",
    "\n",
    "reverse(\"Hello You!\")"
   ]
  },
  {
   "cell_type": "markdown",
   "metadata": {},
   "source": [
    "Same solution, same `O(n)` time, but more elegant."
   ]
  },
  {
   "cell_type": "code",
   "execution_count": null,
   "metadata": {},
   "outputs": [],
   "source": [
    "def reverse(str):\n",
    "    return str[::-1]\n",
    "\n",
    "reverse(\"Hello You!\")\n",
    "\n",
    "# The time complexity of this slicing method is O(n), where n is the length of the input string.\n",
    "# The space complexity is also O(n) because a new string is created to store the reversed version."
   ]
  },
  {
   "cell_type": "markdown",
   "metadata": {},
   "source": [
    "New Solution: Error Handling"
   ]
  },
  {
   "cell_type": "code",
   "execution_count": 184,
   "metadata": {},
   "outputs": [
    {
     "data": {
      "text/plain": [
       "'ih'"
      ]
     },
     "execution_count": 184,
     "metadata": {},
     "output_type": "execute_result"
    }
   ],
   "source": [
    "def reverse(input_str: str) -> str:\n",
    "\n",
    "    if not isinstance(input_str, str):\n",
    "        raise ValueError('ERROR: Must be a string.')\n",
    "    \n",
    "    return input_str[::-1]\n",
    "\n",
    "reverse('hi')"
   ]
  },
  {
   "cell_type": "markdown",
   "metadata": {},
   "source": [
    "Another method, swaping characters one by one."
   ]
  },
  {
   "cell_type": "code",
   "execution_count": null,
   "metadata": {},
   "outputs": [],
   "source": [
    "def reverse(input_str: str) -> str:\n",
    "    if not isinstance(input_str, str):\n",
    "        raise ValueError('ERROR: Must be a string.')\n",
    "    \n",
    "    # Convert string to a list for in-place reversal\n",
    "    char_list = list(input_str)\n",
    "    left, right = 0, len(char_list) - 1\n",
    "    \n",
    "    while left < right:\n",
    "        # Swap characters\n",
    "        char_list[left], char_list[right] = char_list[right], char_list[left]\n",
    "        left += 1\n",
    "        right -= 1\n",
    "    \n",
    "    # Convert list back to string\n",
    "    return ''.join(char_list)\n",
    "\n",
    "reverse('hi')\n",
    "\n",
    "# The time complexity of this reverse function is O(n), where n is the length of the input string.\n",
    "# This is because the function iterates through the string once, swapping characters in-place.\n",
    "# The space complexity is O(n) as well, due to the creation of a list from the input string."
   ]
  },
  {
   "cell_type": "markdown",
   "metadata": {},
   "source": [
    "#### **EXERCISE:** Merge Sorted Arrays\n",
    "\n",
    "- need to merge the arrays then sort them out\n",
    "- `merge_sorted_arrays([0, 3, 4, 31], [4, 5, 30]):` => `[0, 3, 4, 4, 6, 30, 31]`"
   ]
  },
  {
   "cell_type": "markdown",
   "metadata": {},
   "source": [
    "My first solution"
   ]
  },
  {
   "cell_type": "code",
   "execution_count": null,
   "metadata": {},
   "outputs": [
    {
     "data": {
      "text/plain": [
       "[0, 3, 4, 4, 5, 30, 31]"
      ]
     },
     "execution_count": 190,
     "metadata": {},
     "output_type": "execute_result"
    }
   ],
   "source": [
    "def merge_sorted_arrays(array1: list, array2: list) -> list:\n",
    "    \n",
    "    if not isinstance(array1, list) or not isinstance(array2, list):\n",
    "        raise ValueError(\"Both inputs must be lists.\")\n",
    "    \n",
    "    merged_arrays = array1 + array2\n",
    "    return sorted(merged_arrays)\n",
    "\n",
    "array1 = [0, 3, 4, 31]\n",
    "array2 = [4, 5, 30]\n",
    "\n",
    "merge_sorted_arrays(array1, array2)\n",
    "\n",
    "# The time complexity of the `merge_sorted_arrays` function is O((n + m) log(n + m)),\n",
    "# where n is the length of `array1` and m is the length of `array2`.\n",
    "# This is because the `sorted()` function is used, which has a time complexity of O(k log k),\n",
    "# where k is the total number of elements in the merged array.\n",
    "\n",
    "# The space complexity is O(n + m) because a new list is created to store the merged arrays."
   ]
  },
  {
   "cell_type": "markdown",
   "metadata": {},
   "source": [
    "ChatGPT Solution"
   ]
  },
  {
   "cell_type": "code",
   "execution_count": 191,
   "metadata": {},
   "outputs": [
    {
     "data": {
      "text/plain": [
       "[0, 3, 4, 4, 5, 30, 31]"
      ]
     },
     "execution_count": 191,
     "metadata": {},
     "output_type": "execute_result"
    }
   ],
   "source": [
    "def merge_sorted_arrays(array1: list, array2: list) -> list:\n",
    "    if not isinstance(array1, list) or not isinstance(array2, list):\n",
    "        raise ValueError(\"Both inputs must be lists.\")\n",
    "    \n",
    "    merged_array = []\n",
    "    i, j = 0, 0\n",
    "\n",
    "    # Traverse both arrays and merge them\n",
    "    while i < len(array1) and j < len(array2):\n",
    "        if array1[i] < array2[j]:\n",
    "            merged_array.append(array1[i])\n",
    "            i += 1\n",
    "        else:\n",
    "            merged_array.append(array2[j])\n",
    "            j += 1\n",
    "\n",
    "    # Append remaining elements from array1\n",
    "    while i < len(array1):\n",
    "        merged_array.append(array1[i])\n",
    "        i += 1\n",
    "\n",
    "    # Append remaining elements from array2\n",
    "    while j < len(array2):\n",
    "        merged_array.append(array2[j])\n",
    "        j += 1\n",
    "\n",
    "    return merged_array\n",
    "\n",
    "array1 = [0, 3, 4, 31]\n",
    "array2 = [4, 5, 30]\n",
    "\n",
    "merge_sorted_arrays(array1, array2)\n",
    "\n",
    "# The time complexity of this function is O(n + m), where n is the length of array1 and m is the length of array2.\n",
    "# The space complexity is O(n + m) because a new list is created to store the merged arrays."
   ]
  },
  {
   "cell_type": "markdown",
   "metadata": {},
   "source": [
    "Instructor's Solution"
   ]
  },
  {
   "cell_type": "code",
   "execution_count": null,
   "metadata": {},
   "outputs": [],
   "source": [
    "def merge_sorted_arrays(array1: list, array2: list) -> list:\n",
    "    if not isinstance(array1, list) or not isinstance(array2, list):\n",
    "        raise ValueError(\"Both inputs must be lists.\")\n",
    "\n",
    "    # Situation of empty array1.\n",
    "    if len(array1) == 0:\n",
    "        return array2\n",
    "\n",
    "    # Situation of empty array2.\n",
    "    if len(array2) == 0:\n",
    "        return array1\n",
    "    \n",
    "    mergedArray = []\n",
    "    array1Item = array1[0]\n",
    "    array2Item = array2[0]\n",
    "    i = 1\n",
    "    j = 1\n",
    "    \n",
    "    while array1Item | array2Item:\n",
    "        if array1Item < array2Item:\n",
    "            mergedArray.append(array1Item)\n",
    "            array1Item[i]\n",
    "            i += 1\n",
    "        else array2Item < array1Item:\n",
    "            mergedArray.append(array2Item)\n",
    "            array2Item[j]\n",
    "            j += 1\n",
    "\n",
    "\n",
    "\n",
    "    \n",
    "\n",
    "\n",
    "    \n",
    "    return merged_array\n",
    "\n",
    "array1 = [0, 3, 4, 31]\n",
    "array2 = [4, 5, 30]\n",
    "\n",
    "merge_sorted_arrays(array1, array2)\n"
   ]
  }
 ],
 "metadata": {
  "kernelspec": {
   "display_name": ".venv",
   "language": "python",
   "name": "python3"
  },
  "language_info": {
   "codemirror_mode": {
    "name": "ipython",
    "version": 3
   },
   "file_extension": ".py",
   "mimetype": "text/x-python",
   "name": "python",
   "nbconvert_exporter": "python",
   "pygments_lexer": "ipython3",
   "version": "3.13.2"
  }
 },
 "nbformat": 4,
 "nbformat_minor": 2
}
