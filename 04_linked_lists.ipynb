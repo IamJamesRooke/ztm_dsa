{
 "cells": [
  {
   "cell_type": "markdown",
   "metadata": {},
   "source": [
    "# Linked Lists"
   ]
  },
  {
   "cell_type": "code",
   "execution_count": 35,
   "metadata": {},
   "outputs": [],
   "source": [
    "basket = ['apples', 'grapes', 'pears']"
   ]
  },
  {
   "cell_type": "code",
   "execution_count": 36,
   "metadata": {},
   "outputs": [],
   "source": [
    "# linked list: apples -> grapes -> pears"
   ]
  },
  {
   "cell_type": "markdown",
   "metadata": {},
   "source": [
    "When you assign `obj2` as `obj1`, they are referring to the same object.\n",
    "\n",
    "`obj2` just points to the address of `obj1`."
   ]
  },
  {
   "cell_type": "code",
   "execution_count": 37,
   "metadata": {},
   "outputs": [
    {
     "name": "stdout",
     "output_type": "stream",
     "text": [
      "0x2ca678a8d00\n",
      "0x2ca678a8d00\n"
     ]
    }
   ],
   "source": [
    "obj1 = { 'a': True }\n",
    "obj2 = obj1\n",
    "print(hex(id(obj1)))  # Memory address of obj1 in hexadecimal\n",
    "print(hex(id(obj2)))  # Memory address of obj2 in hexadecimal"
   ]
  },
  {
   "cell_type": "code",
   "execution_count": 38,
   "metadata": {},
   "outputs": [
    {
     "data": {
      "text/plain": [
       "{'a': False}"
      ]
     },
     "execution_count": 38,
     "metadata": {},
     "output_type": "execute_result"
    }
   ],
   "source": [
    "obj1['a'] = False\n",
    "obj1"
   ]
  },
  {
   "cell_type": "markdown",
   "metadata": {},
   "source": [
    "And that's why changing `obj1` changes `obj2`."
   ]
  },
  {
   "cell_type": "code",
   "execution_count": 39,
   "metadata": {},
   "outputs": [
    {
     "data": {
      "text/plain": [
       "False"
      ]
     },
     "execution_count": 39,
     "metadata": {},
     "output_type": "execute_result"
    }
   ],
   "source": [
    "obj2['a']"
   ]
  },
  {
   "cell_type": "markdown",
   "metadata": {},
   "source": [
    "And when we delete `ob1`, `obj2` will be undefined because everything at the address was removed."
   ]
  },
  {
   "cell_type": "code",
   "execution_count": 40,
   "metadata": {},
   "outputs": [
    {
     "data": {
      "text/plain": [
       "{}"
      ]
     },
     "execution_count": 40,
     "metadata": {},
     "output_type": "execute_result"
    }
   ],
   "source": [
    "obj1.clear()\n",
    "obj2\n"
   ]
  },
  {
   "cell_type": "markdown",
   "metadata": {},
   "source": [
    "## First Linked List"
   ]
  },
  {
   "cell_type": "markdown",
   "metadata": {},
   "source": [
    "10 --> 5 --> 16"
   ]
  },
  {
   "cell_type": "code",
   "execution_count": 41,
   "metadata": {},
   "outputs": [],
   "source": [
    "myLinkedList = {\n",
    "    'head': {\n",
    "        'value': 10,\n",
    "        'next': {\n",
    "            'value': 5,\n",
    "            'next': {\n",
    "                'value': 16,\n",
    "                'next': None\n",
    "            }\n",
    "        }\n",
    "    }\n",
    "}"
   ]
  },
  {
   "cell_type": "code",
   "execution_count": 100,
   "metadata": {},
   "outputs": [
    {
     "name": "stdout",
     "output_type": "stream",
     "text": [
      "[1000, 1, 'BOOM', 10, 5, 69, 30, 20, 16]\n",
      "[1000, 1, 10, 5, 69, 30, 20, 16]\n"
     ]
    }
   ],
   "source": [
    "# Define a LinkedList class with an initializer method\n",
    "\n",
    "class LinkedList():\n",
    "    def __init__(self, value):\n",
    "        # Initialize the linked list with a head node containing the given value\n",
    "        self.head = {\n",
    "            'value': value,\n",
    "            'next': None\n",
    "        }\n",
    "        # Set the tail to be the same as the head initially\n",
    "        self.tail = self.head\n",
    "        self.length = 1\n",
    "    \n",
    "    def append(self, value):\n",
    "        \n",
    "        newNode = {'value': value, 'next': None}\n",
    "        self.tail['next'] = newNode\n",
    "        self.tail = newNode\n",
    "        self.length += 1\n",
    "        return [\"HEAD:\", self.head, \"TAIL:\", self.tail, \"LENGTH:\", self.length]\n",
    "\n",
    "    def prepend(self, value):\n",
    "\n",
    "        newNode = {'value': value, 'next': None}\n",
    "        newNode['next'] = self.head\n",
    "        self.head = newNode\n",
    "        self.length += 1\n",
    "\n",
    "\n",
    "        return [\"HEAD:\", self.head, \"TAIL:\", self.tail, \"LENGTH:\", self.length]\n",
    "    \n",
    "    \n",
    "    def insert(self, index, value):\n",
    "        # Check for invalid index\n",
    "        if index < 0 or index > self.length:\n",
    "            raise IndexError(\"Index out of bounds\")\n",
    "        \n",
    "        # If inserting at the beginning, use prepend\n",
    "        if index == 0:\n",
    "            return self.prepend(value)\n",
    "        \n",
    "        # If inserting at the end, use append\n",
    "        if index == self.length:\n",
    "            return self.append(value)\n",
    "        \n",
    "        # Traverse to the node just before the insertion point\n",
    "        current_node = self.head\n",
    "        for _ in range(index - 1):\n",
    "            current_node = current_node['next']\n",
    "        \n",
    "        # Create the new node and adjust pointers\n",
    "        new_node = {'value': value, 'next': current_node['next']}\n",
    "        current_node['next'] = new_node\n",
    "        self.length += 1\n",
    "        \n",
    "        return [\"HEAD:\", self.head, \"TAIL:\", self.tail, \"LENGTH:\", self.length]\n",
    "    \n",
    "    def remove(self, index):\n",
    "        # Check for invalid index\n",
    "        if index < 0 or index >= self.length:\n",
    "            raise IndexError(\"Index out of bounds\")\n",
    "        \n",
    "        # If removing the head node\n",
    "        if index == 0:\n",
    "            self.head = self.head['next']\n",
    "            self.length -= 1\n",
    "            return self.nodes\n",
    "        \n",
    "        # Traverse to the node just before the one to be removed\n",
    "        current_node = self.head\n",
    "        for _ in range(index - 1):\n",
    "            current_node = current_node['next']\n",
    "        \n",
    "        # Adjust pointers to skip the node to be removed\n",
    "        node_to_remove = current_node['next']\n",
    "        current_node['next'] = node_to_remove['next']\n",
    "        \n",
    "        # If removing the tail node, update the tail reference\n",
    "        if node_to_remove == self.tail:\n",
    "            self.tail = current_node\n",
    "        \n",
    "        self.length -= 1\n",
    "        return self.nodes\n",
    "\n",
    "    \n",
    "    @property\n",
    "    def nodes(self):\n",
    "        \n",
    "        values = list()\n",
    "        current_node = self.head\n",
    "\n",
    "        while current_node is not None:\n",
    "            values.append(current_node['value'])\n",
    "            current_node = current_node['next']\n",
    "\n",
    "        return values\n",
    "\n",
    "\n",
    "myLinkedList = LinkedList(10)\n",
    "myLinkedList.append(5)\n",
    "myLinkedList.append(30)\n",
    "myLinkedList.append(20)\n",
    "myLinkedList.append(16)\n",
    "myLinkedList.prepend(1)\n",
    "myLinkedList.prepend(1000)\n",
    "myLinkedList.insert(2, 'BOOM')\n",
    "myLinkedList.insert(5, 69)\n",
    "print(myLinkedList.nodes)\n",
    "myLinkedList.remove(2)\n",
    "print(myLinkedList.nodes)\n"
   ]
  },
  {
   "cell_type": "markdown",
   "metadata": {},
   "source": [
    "### Doubly Linked List"
   ]
  },
  {
   "cell_type": "code",
   "execution_count": 101,
   "metadata": {},
   "outputs": [
    {
     "name": "stdout",
     "output_type": "stream",
     "text": [
      "[0, 1, 2, 3]\n"
     ]
    }
   ],
   "source": [
    "class DoublyLinkedList:\n",
    "    class Node:\n",
    "        def __init__(self, value):\n",
    "            self.value = value\n",
    "            self.next = None\n",
    "            self.prev = None\n",
    "\n",
    "    def __init__(self):\n",
    "        self.head = None\n",
    "        self.tail = None\n",
    "        self.length = 0\n",
    "\n",
    "    def append(self, value):\n",
    "        new_node = self.Node(value)\n",
    "        if not self.head:  # If the list is empty\n",
    "            self.head = new_node\n",
    "            self.tail = new_node\n",
    "        else:\n",
    "            self.tail.next = new_node\n",
    "            new_node.prev = self.tail\n",
    "            self.tail = new_node\n",
    "        self.length += 1\n",
    "\n",
    "    def prepend(self, value):\n",
    "        new_node = self.Node(value)\n",
    "        if not self.head:  # If the list is empty\n",
    "            self.head = new_node\n",
    "            self.tail = new_node\n",
    "        else:\n",
    "            new_node.next = self.head\n",
    "            self.head.prev = new_node\n",
    "            self.head = new_node\n",
    "        self.length += 1\n",
    "\n",
    "    def display(self):\n",
    "        values = []\n",
    "        current = self.head\n",
    "        while current:\n",
    "            values.append(current.value)\n",
    "            current = current.next\n",
    "        return values\n",
    "\n",
    "\n",
    "# Example usage\n",
    "doubleList = DoublyLinkedList()\n",
    "doubleList.append(1)\n",
    "doubleList.append(2)\n",
    "doubleList.append(3)\n",
    "doubleList.prepend(0)\n",
    "print(doubleList.display())  # Output: [0, 1, 2, 3]"
   ]
  },
  {
   "cell_type": "markdown",
   "metadata": {},
   "source": [
    "# Side Tangent: Change two variables without a temp variable."
   ]
  },
  {
   "cell_type": "code",
   "execution_count": 43,
   "metadata": {},
   "outputs": [
    {
     "name": "stdout",
     "output_type": "stream",
     "text": [
      "a:  0101\n",
      "     XOR\n",
      "b:  0011\n",
      "————\n",
      "a:  0110\n",
      "     XOR\n",
      "b:  0011\n",
      "————\n",
      "b:  0101 b now equals a\n",
      "a:  0110\n",
      "————\n",
      "a:  0011 a now equals b\n"
     ]
    }
   ],
   "source": [
    "a = 5\n",
    "b = 3\n",
    "\n",
    "print(\"a: \", bin(a)[2:].zfill(4))\n",
    "print('     XOR')\n",
    "print(\"b: \", bin(b)[2:].zfill(4))\n",
    "print('————')\n",
    "a = a ^ b\n",
    "print('a: ', bin(a)[2:].zfill(4))\n",
    "print('     XOR')\n",
    "print(\"b: \", bin(b)[2:].zfill(4))\n",
    "print('————')\n",
    "b = a ^ b\n",
    "print('b: ', bin(b)[2:].zfill(4), 'b now equals a')\n",
    "print('a: ', bin(a)[2:].zfill(4))\n",
    "print('————')\n",
    "a = a ^ b\n",
    "print('a: ', bin(a)[2:].zfill(4), 'a now equals b')"
   ]
  },
  {
   "cell_type": "markdown",
   "metadata": {},
   "source": [
    "### Genius of XOR\n",
    "\n",
    "Whoever figured out XOR-based tricks, such as swapping two variables without a temporary variable, was truly a genius.\n",
    "\n",
    "These techniques showcase the power of bitwise operations in solving problems efficiently and elegantly."
   ]
  },
  {
   "cell_type": "code",
   "execution_count": 44,
   "metadata": {},
   "outputs": [
    {
     "name": "stdout",
     "output_type": "stream",
     "text": [
      "XOR result: 6\n"
     ]
    }
   ],
   "source": [
    "# XOR operation between two integers\n",
    "a = 5  # binary: 0101\n",
    "b = 3  # binary: 0011\n",
    "\n",
    "result = a ^ b  # binary: 0110, decimal: 6\n",
    "print(\"XOR result:\", result)"
   ]
  },
  {
   "cell_type": "markdown",
   "metadata": {},
   "source": [
    "### What does XOR do?\n",
    "\n",
    "The XOR (exclusive OR) operation compares two bits:\n",
    "- Returns `1` if the bits are different.\n",
    "- Returns `0` if the bits are the same.\n",
    "\n",
    "For example:\n",
    "- `0 XOR 0 = 0`\n",
    "- `1 XOR 1 = 0`\n",
    "- `0 XOR 1 = 1`\n",
    "- `1 XOR 0 = 1`\n",
    "\n",
    "It is often used in programming for tasks like toggling bits, swapping values, or error detection."
   ]
  },
  {
   "cell_type": "code",
   "execution_count": 45,
   "metadata": {},
   "outputs": [
    {
     "name": "stdout",
     "output_type": "stream",
     "text": [
      "Binary of a: 0101\n",
      "Binary of b: 0011\n",
      "Binary of result (a XOR b): 0110\n",
      "Decimal result: 6\n"
     ]
    }
   ],
   "source": [
    "# XOR demonstration\n",
    "a = 5  # binary: 0101\n",
    "b = 3  # binary: 0011\n",
    "\n",
    "result = a ^ b  # binary: 0110, decimal: 6\n",
    "print(f\"Binary of a: {bin(a)[2:].zfill(4)}\")\n",
    "print(f\"Binary of b: {bin(b)[2:].zfill(4)}\")\n",
    "print(f\"Binary of result (a XOR b): {bin(result)[2:].zfill(4)}\")\n",
    "print(\"Decimal result:\", result)"
   ]
  },
  {
   "cell_type": "markdown",
   "metadata": {},
   "source": [
    "### Why does modifying `current_node` affect `self.head`?\n",
    "\n",
    "In Python, variables like `current_node` and `self.head` store references to objects in memory, not the objects themselves.\n",
    "\n",
    "When you assign `current_node = self.head`, both `current_node` and `self.head` point to the same object in memory. Therefore, any changes made to `current_node` will also reflect in `self.head`.\n",
    "\n",
    "This behavior is intentional in linked lists, as it allows you to traverse and modify the list efficiently."
   ]
  },
  {
   "cell_type": "markdown",
   "metadata": {},
   "source": [
    "### Understanding Variable References and Memory Addresses"
   ]
  },
  {
   "cell_type": "code",
   "execution_count": null,
   "metadata": {},
   "outputs": [],
   "source": [
    "a = 10  # Create an integer object with value 10 and assign it to 'a'\n",
    "b = a   # 'b' now points to the same object as 'a'\n",
    "\n",
    "print(\"Address of a:\", id(a))  # Print the memory address of the object 'a' points to\n",
    "print(\"Address of b:\", id(b))  # Print the memory address of the object 'b' points to\n",
    "\n",
    "# Modify 'b' to point to a new object\n",
    "b = 20\n",
    "print(\"Address of b after modification:\", id(b))  # 'b' now points to a different object\n",
    "print(\"Value of a:\", a)  # 'a' remains unchanged"
   ]
  },
  {
   "cell_type": "markdown",
   "metadata": {},
   "source": [
    "### EXERCISE: reverse() linked list"
   ]
  },
  {
   "cell_type": "code",
   "execution_count": 129,
   "metadata": {},
   "outputs": [
    {
     "name": "stdout",
     "output_type": "stream",
     "text": [
      "[1000, 1, 10, 5, 69, 30, 20, 16]\n",
      "[16, 20, 30, 69, 5, 10, 1, 1000]\n"
     ]
    }
   ],
   "source": [
    "# Define a LinkedList class with an initializer method\n",
    "\n",
    "class LinkedList():\n",
    "    def __init__(self, value):\n",
    "        # Initialize the linked list with a head node containing the given value\n",
    "        self.head = {\n",
    "            'value': value,\n",
    "            'next': None\n",
    "        }\n",
    "        # Set the tail to be the same as the head initially\n",
    "        self.tail = self.head\n",
    "        self.length = 1\n",
    "    \n",
    "    def append(self, value):\n",
    "        \n",
    "        newNode = {'value': value, 'next': None}\n",
    "        self.tail['next'] = newNode\n",
    "        self.tail = newNode\n",
    "        self.length += 1\n",
    "        return [\"HEAD:\", self.head, \"TAIL:\", self.tail, \"LENGTH:\", self.length]\n",
    "\n",
    "    def prepend(self, value):\n",
    "\n",
    "        newNode = {'value': value, 'next': None}\n",
    "        newNode['next'] = self.head\n",
    "        self.head = newNode\n",
    "        self.length += 1\n",
    "\n",
    "\n",
    "        return [\"HEAD:\", self.head, \"TAIL:\", self.tail, \"LENGTH:\", self.length]\n",
    "    \n",
    "    \n",
    "    def insert(self, index, value):\n",
    "        # Check for invalid index\n",
    "        if index < 0 or index > self.length:\n",
    "            raise IndexError(\"Index out of bounds\")\n",
    "        \n",
    "        # If inserting at the beginning, use prepend\n",
    "        if index == 0:\n",
    "            return self.prepend(value)\n",
    "        \n",
    "        # If inserting at the end, use append\n",
    "        if index == self.length:\n",
    "            return self.append(value)\n",
    "        \n",
    "        # Traverse to the node just before the insertion point\n",
    "        current_node = self.head\n",
    "        for _ in range(index - 1):\n",
    "            current_node = current_node['next']\n",
    "        \n",
    "        # Create the new node and adjust pointers\n",
    "        new_node = {'value': value, 'next': current_node['next']}\n",
    "        current_node['next'] = new_node\n",
    "        self.length += 1\n",
    "        \n",
    "        return [\"HEAD:\", self.head, \"TAIL:\", self.tail, \"LENGTH:\", self.length]\n",
    "    \n",
    "    def remove(self, index):\n",
    "        # Check for invalid index\n",
    "        if index < 0 or index >= self.length:\n",
    "            raise IndexError(\"Index out of bounds\")\n",
    "        \n",
    "        # If removing the head node\n",
    "        if index == 0:\n",
    "            self.head = self.head['next']\n",
    "            self.length -= 1\n",
    "            return self.nodes\n",
    "        \n",
    "        # Traverse to the node just before the one to be removed\n",
    "        current_node = self.head\n",
    "        for _ in range(index - 1):\n",
    "            current_node = current_node['next']\n",
    "        \n",
    "        # Adjust pointers to skip the node to be removed\n",
    "        node_to_remove = current_node['next']\n",
    "        current_node['next'] = node_to_remove['next']\n",
    "        \n",
    "        # If removing the tail node, update the tail reference\n",
    "        if node_to_remove == self.tail:\n",
    "            self.tail = current_node\n",
    "        \n",
    "        self.length -= 1\n",
    "        return self.nodes\n",
    "    \n",
    "    def reverse(self):\n",
    "        # hacky solution, creating a new list, reversed\n",
    "        # then reassigning pointers\n",
    "        values = self.nodes[::-1]\n",
    "        \n",
    "        reversed_list = LinkedList(values[0])\n",
    "\n",
    "        for i in values[1:]:\n",
    "            reversed_list.append(i)\n",
    "\n",
    "        self.head = reversed_list.head\n",
    "\n",
    "        return self.nodes\n",
    "        # The time complexity of this reverse method is O(n) because we traverse the list once to collect the values\n",
    "        # and then traverse the reversed values to create a new linked list.\n",
    "        # The space complexity is also O(n) due to the creation of a new list to store the reversed values.\n",
    "\n",
    "    def reverse2(self):\n",
    "        # Check if the list is empty or has only one node\n",
    "        if not self.head or not self.head['next']:\n",
    "            return self.nodes\n",
    "\n",
    "        prev = None\n",
    "        current = self.head\n",
    "        self.tail = self.head  # Update the tail to the current head\n",
    "\n",
    "        while current:\n",
    "            next_node = current['next']  # Store the next node\n",
    "            current['next'] = prev  # Reverse the pointer\n",
    "            prev = current  # Move prev to the current node\n",
    "            current = next_node  # Move to the next node\n",
    "\n",
    "        self.head = prev  # Update the head to the last node\n",
    "\n",
    "        return self.nodes\n",
    "\n",
    "        \n",
    "    @property\n",
    "    def nodes(self):\n",
    "        \n",
    "        values = list()\n",
    "        current_node = self.head\n",
    "\n",
    "        while current_node is not None:\n",
    "            values.append(current_node['value'])\n",
    "            current_node = current_node['next']\n",
    "\n",
    "        return values\n",
    "    \n",
    "    def __repr__(self):\n",
    "        return str(self.nodes)\n",
    "\n",
    "\n",
    "myLinkedList = LinkedList(10)\n",
    "myLinkedList.append(5)\n",
    "myLinkedList.append(30)\n",
    "myLinkedList.append(20)\n",
    "myLinkedList.append(16)\n",
    "myLinkedList.prepend(1)\n",
    "myLinkedList.prepend(1000)\n",
    "myLinkedList.insert(2, 'BOOM')\n",
    "myLinkedList.insert(5, 69)\n",
    "myLinkedList.remove(2)\n",
    "print(myLinkedList)\n",
    "myLinkedList.reverse2()\n",
    "print(myLinkedList)"
   ]
  }
 ],
 "metadata": {
  "kernelspec": {
   "display_name": ".venv",
   "language": "python",
   "name": "python3"
  },
  "language_info": {
   "codemirror_mode": {
    "name": "ipython",
    "version": 3
   },
   "file_extension": ".py",
   "mimetype": "text/x-python",
   "name": "python",
   "nbconvert_exporter": "python",
   "pygments_lexer": "ipython3",
   "version": "3.13.2"
  }
 },
 "nbformat": 4,
 "nbformat_minor": 2
}
